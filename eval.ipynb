{
 "cells": [
  {
   "cell_type": "code",
   "execution_count": 1,
   "metadata": {},
   "outputs": [],
   "source": [
    "from data_handle import DatasetHandler\n",
    "from model_handle import ModelHandler\n",
    "\n",
    "#train_data_path = '../data/kddcup2010_train.txt'\n",
    "test_data_path = '../data/kddcup2010_test.txt'"
   ]
  },
  {
   "cell_type": "markdown",
   "metadata": {},
   "source": [
    "## Evaluation\n",
    "- batch : batch(user) by 49+1(excercise, prediction)"
   ]
  },
  {
   "cell_type": "code",
   "execution_count": 2,
   "metadata": {},
   "outputs": [
    {
     "name": "stderr",
     "output_type": "stream",
     "text": [
      "loading data:    : 538it [00:00, 1319.88it/s]\n"
     ]
    },
    {
     "name": "stdout",
     "output_type": "stream",
     "text": [
      "------------------------------\n",
      "---------- cuda:0 ----------\n",
      "------------------------------\n",
      "compile model --------------------\n",
      "Adam (\n",
      "Parameter Group 0\n",
      "    amsgrad: False\n",
      "    betas: (0.9, 0.999)\n",
      "    eps: 1e-08\n",
      "    lr: 0.001\n",
      "    weight_decay: 0\n",
      ")\n",
      "\n",
      "lossFunc(\n",
      "  (loss_fn): BCELoss()\n",
      ")\n",
      "\n",
      "DKT(\n",
      "  (lstm): LSTM(1322, 200, batch_first=True)\n",
      "  (fc): Linear(in_features=200, out_features=661, bias=True)\n",
      "  (sig): Sigmoid()\n",
      ")\n",
      "------------------------------\n"
     ]
    }
   ],
   "source": [
    "from constants import *\n",
    "\n",
    "data_handler = DatasetHandler()\n",
    "#train_generator = data_handler.get_data_generator(train_data_path)\n",
    "val_generator = data_handler.get_data_generator(test_data_path)\n",
    "\n",
    "model_handler = ModelHandler(input_dim, hidden_dim, num_layers, output_dim)\n",
    "model_handler.load_model('outputs/15_0.3379_0.7377.pth')\n",
    "model_handler.compile_model()"
   ]
  },
  {
   "cell_type": "code",
   "execution_count": null,
   "metadata": {},
   "outputs": [],
   "source": [
    "model_handler.evaluate(val_generator)"
   ]
  },
  {
   "cell_type": "markdown",
   "metadata": {},
   "source": [
    "## Predict"
   ]
  },
  {
   "cell_type": "code",
   "execution_count": 3,
   "metadata": {},
   "outputs": [],
   "source": [
    "# test sample \n",
    "batch_sample = next(iter(val_generator))"
   ]
  },
  {
   "cell_type": "code",
   "execution_count": 4,
   "metadata": {},
   "outputs": [
    {
     "name": "stdout",
     "output_type": "stream",
     "text": [
      "--------------------------------------------------\n",
      "sol excercise tags: \n",
      " tensor([447., 568., 580., 394.,  41.,  91., 643., 152., 474., 523., 428., 526.,\n",
      "        133., 199., 442.,  24., 614., 456., 600., 116.,  31., 112., 535., 376.,\n",
      "        244., 609., 541., 296., 310., 292.,  -1.,  -1.,  -1.,  -1.,  -1.,  -1.,\n",
      "         -1.,  -1.,  -1.,  -1.,  -1.,  -1.,  -1.,  -1.,  -1.,  -1.,  -1.,  -1.,\n",
      "         -1.])\n",
      "result excercise tags: \n",
      " tensor([1., 1., 1., 0., 1., 0., 1., 1., 1., 1., 1., 1., 1., 1., 0., 0., 1., 1.,\n",
      "        1., 1., 1., 1., 1., 0., 1., 1., 1., 1., 1., 1., 0., 0., 0., 0., 0., 0.,\n",
      "        0., 0., 0., 0., 0., 0., 0., 0., 0., 0., 0., 0., 0.], device='cuda:0')\n",
      "--------------------------------------------------\n",
      "predict excercise tag 292.0\n",
      "ground truth : 1.0\n",
      "this student has a 0.77% chance of solving this problem\n"
     ]
    }
   ],
   "source": [
    "import random\n",
    "\n",
    "rand_idx = random.randint(0, batch_sample.shape[0] - 1)\n",
    "x = batch_sample[rand_idx]\n",
    "prob = model_handler.predict(x)"
   ]
  }
 ],
 "metadata": {
  "kernelspec": {
   "display_name": "Python 3",
   "language": "python",
   "name": "python3"
  },
  "language_info": {
   "codemirror_mode": {
    "name": "ipython",
    "version": 3
   },
   "file_extension": ".py",
   "mimetype": "text/x-python",
   "name": "python",
   "nbconvert_exporter": "python",
   "pygments_lexer": "ipython3",
   "version": "3.8.5"
  }
 },
 "nbformat": 4,
 "nbformat_minor": 4
}
